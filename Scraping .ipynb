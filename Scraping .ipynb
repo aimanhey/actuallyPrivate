{
 "cells": [
  {
   "cell_type": "code",
   "execution_count": null,
   "metadata": {},
   "outputs": [],
   "source": [
    "from selenium import webdriver\n",
    "import sys\n",
    "##driver = webdriver.Chrome('///////////////') \n",
    "options = webdriver.ChromeOptions()\n",
    "options.add_experimental_option('prefs', {\n",
    "\"download.default_directory\": \"//////////////\", #Change default directory for downloads\n",
    "\"download.prompt_for_download\": False, #To auto download the file\n",
    "\"download.directory_upgrade\": True,\n",
    "\"plugins.always_open_pdf_externally\": True #It will not show PDF directly in chrome\n",
    "})\n",
    "driver = webdriver.Chrome('/////////////',options=options)\n",
    "from selenium.webdriver.common.keys import Keys\n",
    "import tabula\n",
    "import numpy as np\n",
    "import pandas as pd\n",
    "import re\n",
    "import json\n",
    "import requests\n",
    "import time\n",
    "import os"
   ]
  },
  {
   "cell_type": "code",
   "execution_count": null,
   "metadata": {},
   "outputs": [],
   "source": [
    "driver.get('///////////////')"
   ]
  },
  {
   "cell_type": "code",
   "execution_count": null,
   "metadata": {},
   "outputs": [],
   "source": [
    "username = driver.find_element_by_id(\"//////////////////////////////\")\n",
    "username.send_keys('///////////////')\n",
    "password = driver.find_element_by_id(\"///////////////\")\n",
    "password.send_keys('///////////////@///////////////')"
   ]
  },
  {
   "cell_type": "code",
   "execution_count": null,
   "metadata": {},
   "outputs": [],
   "source": [
    "password.send_keys(Keys.ENTER)"
   ]
  },
  {
   "cell_type": "code",
   "execution_count": null,
   "metadata": {},
   "outputs": [],
   "source": [
    "driver.get('///////////////')"
   ]
  },
  {
   "cell_type": "code",
   "execution_count": null,
   "metadata": {},
   "outputs": [],
   "source": [
    "links=driver.find_elements_by_css_selector(\"a[href*='file/settlement']\")"
   ]
  },
  {
   "cell_type": "code",
   "execution_count": null,
   "metadata": {},
   "outputs": [],
   "source": [
    "link=links[0].get_attribute(\"href\")"
   ]
  },
  {
   "cell_type": "code",
   "execution_count": null,
   "metadata": {},
   "outputs": [],
   "source": [
    "link"
   ]
  },
  {
   "cell_type": "code",
   "execution_count": null,
   "metadata": {},
   "outputs": [],
   "source": [
    "driver.get(link)\n",
    "time.sleep(.25)"
   ]
  },
  {
   "cell_type": "code",
   "execution_count": null,
   "metadata": {
    "scrolled": false
   },
   "outputs": [],
   "source": [
    "file = ''\n",
    "while file.lower().endswith('.pdf') is False:\n",
    "    time.sleep(.25)\n",
    "    try:\n",
    "        file = max([ f for f in os.listdir('///////////////')], key=os.path.getctime)\n",
    "    except ValueError:\n",
    "        pass"
   ]
  },
  {
   "cell_type": "code",
   "execution_count": null,
   "metadata": {
    "scrolled": true
   },
   "outputs": [],
   "source": [
    "file"
   ]
  },
  {
   "cell_type": "code",
   "execution_count": null,
   "metadata": {
    "scrolled": true
   },
   "outputs": [],
   "source": [
    "tables = tabula.read_pdf(file,pages=1,pandas_options={'header': None},output_format=\"dataframe\")\n",
    "print(tables)\n",
    "\n",
    "if not tables:\n",
    "    tables = tabula.read_pdf(file,pages=1,pandas_options={'header': None},output_format=\"dataframe\",area=(152.235,18.36,210.375,1208.7))\n",
    "    print(tables)"
   ]
  },
  {
   "cell_type": "code",
   "execution_count": null,
   "metadata": {},
   "outputs": [],
   "source": [
    "columns=tables[0]"
   ]
  },
  {
   "cell_type": "code",
   "execution_count": null,
   "metadata": {
    "scrolled": false
   },
   "outputs": [],
   "source": [
    "columns"
   ]
  },
  {
   "cell_type": "code",
   "execution_count": null,
   "metadata": {},
   "outputs": [],
   "source": [
    "jsonn=columns.to_json(orient = 'records')"
   ]
  },
  {
   "cell_type": "code",
   "execution_count": null,
   "metadata": {},
   "outputs": [],
   "source": [
    "jsonn"
   ]
  },
  {
   "cell_type": "code",
   "execution_count": null,
   "metadata": {},
   "outputs": [],
   "source": [
    "rows = json.loads(jsonn)"
   ]
  },
  {
   "cell_type": "code",
   "execution_count": null,
   "metadata": {},
   "outputs": [],
   "source": [
    "rows"
   ]
  },
  {
   "cell_type": "code",
   "execution_count": null,
   "metadata": {
    "scrolled": false
   },
   "outputs": [],
   "source": [
    "lists=[]\n",
    "inc = 0\n",
    "print(columns.shape[0])\n",
    "while inc < (columns.shape[0]-3):\n",
    "    kamus={\"aggrement\":\"\",\"instPro\":\"\",\"date\":\"\",\"credit_price\":\"\",\"rate\":\"\",\"ewPrice\":\"\",\"processingFee\":\"\",\"participationFee\":\"\",\"initialPay\":\"\",\"initialPayAdj\":\"\",\"promotionCost\":\"\",\"ewCost\":\"\",\"receivedDate\":\"\",\"cashPayment\":\"\",\"trackingNo\":\"\",\"actualPayment\":\"\",\"totalCharge\":\"\"}\n",
    "    column1=re.findall(r\"\\d\\d\\d-\\d\\d-\\d\\d\\d\\d\\d\\d-\\d\", rows[inc][\"0\"])\n",
    "    column1=str(column1).replace(\"-\", \"\").replace(\"]\", \"\").replace(\"[\", \"\").replace(\"'\", \"\")\n",
    "    kamus.update({\"aggrement\": int(column1)})\n",
    "    if(re.findall(\"\\d\\d\\/\\d\\d\\/\\d\\d\\d\\d\", rows[inc][\"0\"])==[]):\n",
    "        column3=re.findall(\"\\d\\/\\d\\d\\/\\d\\d\\d\\d\", rows[inc][\"0\"])\n",
    "    else:\n",
    "        column3=re.findall(\"\\d\\d\\/\\d\\d\\/\\d\\d\\d\\d\", rows[inc][\"0\"])\n",
    "    column33=str(column3).replace(\"]\", \"\").replace(\"[\", \"\").replace(\"'\", \"\")\n",
    "    kamus.update({\"date\":column33})\n",
    "    column2=re.findall(r\"^\\d\\d\",rows[inc][\"1\"])\n",
    "    column22=str(column2).replace(\"]\", \"\").replace(\"[\", \"\").replace(\"'\", \"\")\n",
    "    kamus.update({\"instPro\":int(column22)})\n",
    "    column4=rows[inc][\"3\"].replace(\",\", \"\")\n",
    "    kamus.update({\"credit_price\":float(column4)})\n",
    "    column5=re.findall(r\"\\d\\d\\d\\d$\",rows[inc][\"1\"])\n",
    "    column55=str(column5).replace(\"]\", \"\").replace(\"[\", \"\").replace(\"'\", \"\")\n",
    "    kamus.update({\"rate\":column55})\n",
    "    column6=rows[inc][\"2\"]\n",
    "    kamus.update({\"ewPrice\":column6})\n",
    "    column7=rows[inc][\"4\"]\n",
    "    kamus.update({\"processingFee\":column7})\n",
    "    column8=rows[inc][\"5\"]\n",
    "    kamus.update({\"participationFee\":column8})\n",
    "    column9=rows[inc][\"6\"]\n",
    "    kamus.update({\"initialPay\":column9})\n",
    "    column10=rows[inc+1][\"6\"]\n",
    "    kamus.update({\"initialPayAdj\":column10})\n",
    "    column11=rows[inc][\"7\"]\n",
    "    kamus.update({\"promotionCost\":column11})\n",
    "    column12=rows[inc][\"8\"]\n",
    "    kamus.update({\"ewCost\":column12})\n",
    "    column13=rows[inc][\"9\"]\n",
    "    kamus.update({\"receivedDate\":column13})\n",
    "    column14=rows[inc+1][\"9\"].replace(\",\", \"\")\n",
    "    kamus.update({\"cashPayment\":float(column14)})\n",
    "    column15=rows[inc][\"10\"]\n",
    "    kamus.update({\"trackingNo\":column15})\n",
    "    column16=rows[columns.shape[0]-1][\"10\"].replace(\",\", \"\")\n",
    "    kamus.update({\"actualPayment\":float(column16)})\n",
    "    column17=rows[columns.shape[0]-2][\"4\"]\n",
    "    kamus.update({\"totalCharge\":float(column17)})\n",
    "    lists.append(kamus)\n",
    "    print(column3)\n",
    "    inc+=2"
   ]
  },
  {
   "cell_type": "code",
   "execution_count": null,
   "metadata": {
    "scrolled": false
   },
   "outputs": [],
   "source": [
    "lists"
   ]
  },
  {
   "cell_type": "code",
   "execution_count": null,
   "metadata": {},
   "outputs": [],
   "source": [
    "lists[0]['aggrement']"
   ]
  },
  {
   "cell_type": "code",
   "execution_count": null,
   "metadata": {},
   "outputs": [],
   "source": [
    "len(lists)"
   ]
  },
  {
   "cell_type": "code",
   "execution_count": null,
   "metadata": {
    "scrolled": true
   },
   "outputs": [],
   "source": [
    "arraytt=[]\n",
    "for index,item in enumerate(lists):\n",
    "    print(index)\n",
    "    dicts={\"applicantName\":\"\",\"IDnumber\":\"\",\"aggrementNo\":\"\",\"product\":\"\",\"dateApproval\":\"\",\"countDownPeriod\":\"\",\"salesClaimStatus\":\"\",\"lastUpdatedDate\":\"\"}\n",
    "    driver.get(\"///////////////\")\n",
    "    aggrementNo = driver.find_element_by_id(\"agreementNo\")\n",
    "    aggrementNo.send_keys(item['aggrement'])\n",
    "    select = driver.find_element_by_class_name('select2.select2-container.select2-container--default')\n",
    "    select.click()\n",
    "    s1=driver.find_element_by_id('select2-mainProduct-results')\n",
    "    item=s1.find_elements_by_tag_name(\"li\")\n",
    "    item[1].click()\n",
    "    row=driver.find_elements_by_tag_name(\"tbody\")\n",
    "    column=row[0].find_elements_by_tag_name(\"td\")\n",
    "    dicts.update({\"applicantName\":column[1].text})\n",
    "    dicts.update({\"IDnumber\":column[2].text})\n",
    "    dicts.update({\"aggrementNo\":column[3].text})\n",
    "    dicts.update({\"product\":column[4].text})\n",
    "    dicts.update({\"dateApproval\":column[5].text})\n",
    "    dicts.update({\"countDownPeriod\":column[6].text})\n",
    "    dicts.update({\"salesClaimStatus\":column[7].text})\n",
    "    dicts.update({\"lastUpdatedDate\":column[8].text})\n",
    "    z = {**lists[index],**dicts}\n",
    "    arraytt.append(z)\n",
    "    ##arraytt.append(z)\n",
    "    print(type(dicts))\n",
    "    print(type(lists[index]))\n",
    "    ## print(type(dict.item()))\n",
    "    ##z=dict(zip(dicts,item))"
   ]
  },
  {
   "cell_type": "code",
   "execution_count": null,
   "metadata": {},
   "outputs": [],
   "source": [
    "arraytt"
   ]
  },
  {
   "cell_type": "code",
   "execution_count": null,
   "metadata": {},
   "outputs": [],
   "source": [
    "url = '///////////////'\n",
    "y = json.dumps(arraytt)\n",
    "print(y)\n",
    "headers = {\n",
    "  'Content-Type': 'application/json'\n",
    "}\n",
    "x = requests.post(url, data = y,headers=headers)\n",
    "print(x.text)\n"
   ]
  },
  {
   "cell_type": "code",
   "execution_count": null,
   "metadata": {},
   "outputs": [],
   "source": [
    "driver.quit()"
   ]
  },
  {
   "cell_type": "code",
   "execution_count": null,
   "metadata": {},
   "outputs": [],
   "source": []
  }
 ],
 "metadata": {
  "kernelspec": {
   "display_name": "Python 3",
   "language": "python",
   "name": "python3"
  },
  "language_info": {
   "codemirror_mode": {
    "name": "ipython",
    "version": 3
   },
   "file_extension": ".py",
   "mimetype": "text/x-python",
   "name": "python",
   "nbconvert_exporter": "python",
   "pygments_lexer": "ipython3",
   "version": "3.7.5"
  }
 },
 "nbformat": 4,
 "nbformat_minor": 2
}
